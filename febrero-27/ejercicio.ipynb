{
 "cells": [
  {
   "cell_type": "code",
   "execution_count": 12,
   "metadata": {},
   "outputs": [
    {
     "name": "stdout",
     "output_type": "stream",
     "text": [
      "Buscandoooo\n",
      " el angulo inicial es 27.158846855163574 y se necesitaron 20 iteraciones\n"
     ]
    }
   ],
   "source": [
    "import numpy as np\n",
    "import pandas as pd\n",
    "\n",
    "def biseccion(funcion, a, b, tolerancia):\n",
    "\n",
    "    if funcion(a)*funcion(b)>0:\n",
    "        print(\"La funcion no cumple el teorema en el intervalo dado\")\n",
    "        return\n",
    "    else:\n",
    "        print(\"Buscandoooo\")\n",
    "        contador = 0\n",
    "        while abs(b - a) > tolerancia:\n",
    "            p = (a + b) / 2\n",
    "            contador += 1\n",
    "            if funcion(a)*funcion(p) > 0:\n",
    "                a = p\n",
    "            else:\n",
    "                b = p\n",
    "        return contador, p\n",
    "\n",
    "#f = lambda x: 3**(-x)-x\n",
    "x = 35\n",
    "g = 9.8\n",
    "vo = 20\n",
    "yo = 2\n",
    "y = 1\n",
    "f = lambda o: 35*np.tan(o) - (g*x**2) / (2*vo**2*(np.cos(o))**2) + yo - y \n",
    "iteracion_theta, theta_inicial = biseccion(f, 0, np.pi/4, 1e-6)\n",
    "print(f\" el angulo inicial es {np.degrees(theta_inicial)} y se necesitaron {iteracion_theta} iteraciones\")"
   ]
  },
  {
   "cell_type": "code",
   "execution_count": null,
   "metadata": {},
   "outputs": [],
   "source": []
  }
 ],
 "metadata": {
  "kernelspec": {
   "display_name": "venv",
   "language": "python",
   "name": "python3"
  },
  "language_info": {
   "codemirror_mode": {
    "name": "ipython",
    "version": 3
   },
   "file_extension": ".py",
   "mimetype": "text/x-python",
   "name": "python",
   "nbconvert_exporter": "python",
   "pygments_lexer": "ipython3",
   "version": "3.12.3"
  }
 },
 "nbformat": 4,
 "nbformat_minor": 2
}
